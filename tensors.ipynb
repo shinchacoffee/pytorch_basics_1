{
  "nbformat": 4,
  "nbformat_minor": 0,
  "metadata": {
    "colab": {
      "name": "tensors.ipynb",
      "provenance": [],
      "authorship_tag": "ABX9TyM1HdP3Gs8DXwz77WtcQ28j",
      "include_colab_link": true
    },
    "kernelspec": {
      "name": "python3",
      "display_name": "Python 3"
    },
    "language_info": {
      "name": "python"
    },
    "accelerator": "GPU"
  },
  "cells": [
    {
      "cell_type": "markdown",
      "metadata": {
        "id": "view-in-github",
        "colab_type": "text"
      },
      "source": [
        "<a href=\"https://colab.research.google.com/github/shinchacoffee/pytorch_basics_1/blob/main/tensors.ipynb\" target=\"_parent\"><img src=\"https://colab.research.google.com/assets/colab-badge.svg\" alt=\"Open In Colab\"/></a>"
      ]
    },
    {
      "cell_type": "code",
      "execution_count": 1,
      "metadata": {
        "id": "eN4qF3p3V-e8"
      },
      "outputs": [],
      "source": [
        "import torch\n",
        "import numpy as np"
      ]
    },
    {
      "cell_type": "code",
      "source": [
        "data = [[1, 2], [3, 4]]\n",
        "data_tens = torch.tensor(data)\n",
        "data_ndar = np.array(data)\n",
        "data_tens_from_ndar = torch.tensor(data_ndar)\n",
        "print(f\"{data}\\n{data_ndar}\\n{data_tens}\\n{data_tens_from_ndar}\")"
      ],
      "metadata": {
        "colab": {
          "base_uri": "https://localhost:8080/"
        },
        "id": "4TgSjewsWVc1",
        "outputId": "0c736ab4-72f1-44ec-8d89-78e7c7b1f345"
      },
      "execution_count": 2,
      "outputs": [
        {
          "output_type": "stream",
          "name": "stdout",
          "text": [
            "[[1, 2], [3, 4]]\n",
            "[[1 2]\n",
            " [3 4]]\n",
            "tensor([[1, 2],\n",
            "        [3, 4]])\n",
            "tensor([[1, 2],\n",
            "        [3, 4]])\n"
          ]
        }
      ]
    },
    {
      "cell_type": "code",
      "source": [
        "#from torch._C import dtype\n",
        "tensor_ones = torch.ones_like(data_tens)\n",
        "#tensor_rand1 = torch.rand_like(data_tens) #-> gets error that not defined/works for long type...\n",
        "tensor_rand2 = torch.rand_like(data_tens, dtype=torch.float)\n",
        "print(f\"{tensor_ones}\\n{tensor_rand2}\")"
      ],
      "metadata": {
        "colab": {
          "base_uri": "https://localhost:8080/"
        },
        "id": "mrdu1pYDXCVf",
        "outputId": "996959ac-4fab-41a9-fcde-f017b9a31cbf"
      },
      "execution_count": 3,
      "outputs": [
        {
          "output_type": "stream",
          "name": "stdout",
          "text": [
            "tensor([[1, 1],\n",
            "        [1, 1]])\n",
            "tensor([[0.4755, 0.1494],\n",
            "        [0.3518, 0.2336]])\n"
          ]
        }
      ]
    },
    {
      "cell_type": "code",
      "source": [
        "shape1 = (2,3,)\n",
        "shape2 = (2,3)\n",
        "ones_tensor = torch.ones(shape1)\n",
        "rand_tensor = torch.rand(shape2)\n",
        "print(f\"{ones_tensor}\\n{rand_tensor}, {ones_tensor.shape}, {rand_tensor.shape}\")"
      ],
      "metadata": {
        "colab": {
          "base_uri": "https://localhost:8080/"
        },
        "id": "LSzIi0BJYN-E",
        "outputId": "8289ce7d-b24c-49e2-c9cd-13bd203eece4"
      },
      "execution_count": 4,
      "outputs": [
        {
          "output_type": "stream",
          "name": "stdout",
          "text": [
            "tensor([[1., 1., 1.],\n",
            "        [1., 1., 1.]])\n",
            "tensor([[0.5067, 0.3278, 0.3004],\n",
            "        [0.4985, 0.9265, 0.3598]]), torch.Size([2, 3]), torch.Size([2, 3])\n"
          ]
        }
      ]
    },
    {
      "cell_type": "code",
      "source": [
        "tensor = torch.rand(2,3)\n",
        "print(f\"tensor shape: {tensor.shape}\")\n",
        "print(f\"tensor data type: {tensor.dtype}\")\n",
        "print(f\"tensor is on device: {tensor.device}\")"
      ],
      "metadata": {
        "colab": {
          "base_uri": "https://localhost:8080/"
        },
        "id": "ATdjXU6yZUy6",
        "outputId": "6e976b74-4fea-4cd5-f7d1-581bdfc58139"
      },
      "execution_count": 5,
      "outputs": [
        {
          "output_type": "stream",
          "name": "stdout",
          "text": [
            "tensor shape: torch.Size([2, 3])\n",
            "tensor data type: torch.float32\n",
            "tensor is on device: cpu\n"
          ]
        }
      ]
    },
    {
      "cell_type": "code",
      "source": [
        "tensor = tensor.to(\"cpu\")\n",
        "device = \"cuda\" if torch.cuda.is_available() else \"cpu\"\n",
        "print(f\"will be using device: {device}\")\n",
        "tensor.to(device)\n",
        "print(f\"tensor is on device: {tensor.device}\")\n",
        "tensor = tensor.to(device)\n",
        "print(f\"tensor is on device: {tensor.device}\")"
      ],
      "metadata": {
        "colab": {
          "base_uri": "https://localhost:8080/"
        },
        "id": "fwiAudY4aDif",
        "outputId": "71ee4664-9b1d-4002-9ea8-f57ec4496e6b"
      },
      "execution_count": 10,
      "outputs": [
        {
          "output_type": "stream",
          "name": "stdout",
          "text": [
            "will be using device: cuda\n",
            "tensor is on device: cpu\n",
            "tensor is on device: cuda:0\n"
          ]
        }
      ]
    },
    {
      "cell_type": "code",
      "source": [
        "tensor = torch.rand(4,4)\n",
        "print(tensor)\n",
        "print(f\"first row: {tensor[0,:]}\")\n",
        "print(f\"first column: {tensor[:,0]}\")\n",
        "print(f\"last column: {tensor[...,-1]}\")\n",
        "print(f\"some part: {tensor[:-2,2:]}\")\n",
        "print(f\"some part: {tensor[1:-1,1:-1]}\") #so interval is closed at the begining and open at the end"
      ],
      "metadata": {
        "colab": {
          "base_uri": "https://localhost:8080/"
        },
        "id": "IEwfdsFQai9m",
        "outputId": "b7e1fb91-1dbb-433e-8916-03642786cefd"
      },
      "execution_count": 30,
      "outputs": [
        {
          "output_type": "stream",
          "name": "stdout",
          "text": [
            "tensor([[0.5497, 0.3987, 0.0496, 0.8763],\n",
            "        [0.6967, 0.8483, 0.2954, 0.6611],\n",
            "        [0.1146, 0.3983, 0.1336, 0.0251],\n",
            "        [0.8321, 0.2768, 0.3731, 0.3879]])\n",
            "first row: tensor([0.5497, 0.3987, 0.0496, 0.8763])\n",
            "first column: tensor([0.5497, 0.6967, 0.1146, 0.8321])\n",
            "last column: tensor([0.8763, 0.6611, 0.0251, 0.3879])\n",
            "some part: tensor([[0.0496, 0.8763],\n",
            "        [0.2954, 0.6611]])\n",
            "some part: tensor([[0.8483, 0.2954],\n",
            "        [0.3983, 0.1336]])\n"
          ]
        }
      ]
    },
    {
      "cell_type": "code",
      "source": [
        "tensor = torch.rand(2,2)\n",
        "tensor[:,1]=0\n",
        "joined = torch.concat([tensor, tensor, tensor], dim=1)\n",
        "print(joined)\n",
        "joined2 = torch.concat([tensor, tensor, tensor], dim=0)\n",
        "print(joined2)\n",
        "joined3 = torch.concat([tensor, tensor, tensor], dim=-1)\n",
        "print(joined3)\n",
        "joined4 = torch.concat([tensor, tensor, tensor], dim=-2)\n",
        "print(joined4)"
      ],
      "metadata": {
        "colab": {
          "base_uri": "https://localhost:8080/"
        },
        "id": "UWgrHUYWcTS2",
        "outputId": "354d7a43-38fe-4e76-87f4-e60392aab9bb"
      },
      "execution_count": 45,
      "outputs": [
        {
          "output_type": "stream",
          "name": "stdout",
          "text": [
            "tensor([[0.2982, 0.0000, 0.2982, 0.0000, 0.2982, 0.0000],\n",
            "        [0.1576, 0.0000, 0.1576, 0.0000, 0.1576, 0.0000]])\n",
            "tensor([[0.2982, 0.0000],\n",
            "        [0.1576, 0.0000],\n",
            "        [0.2982, 0.0000],\n",
            "        [0.1576, 0.0000],\n",
            "        [0.2982, 0.0000],\n",
            "        [0.1576, 0.0000]])\n",
            "tensor([[0.2982, 0.0000, 0.2982, 0.0000, 0.2982, 0.0000],\n",
            "        [0.1576, 0.0000, 0.1576, 0.0000, 0.1576, 0.0000]])\n",
            "tensor([[0.2982, 0.0000],\n",
            "        [0.1576, 0.0000],\n",
            "        [0.2982, 0.0000],\n",
            "        [0.1576, 0.0000],\n",
            "        [0.2982, 0.0000],\n",
            "        [0.1576, 0.0000]])\n"
          ]
        }
      ]
    },
    {
      "cell_type": "code",
      "source": [
        "y1 = tensor @ tensor.T\n",
        "y2 = tensor.matmul(tensor.T)\n",
        "y3 = torch.rand_like(tensor)\n",
        "torch.matmul(tensor, tensor.T, out=y3)\n",
        "print(tensor)\n",
        "print(f\"{y1}\\n{y2}\\n{y3}\")\n",
        "z1 = tensor * tensor\n",
        "z2 = tensor.mul(tensor)\n",
        "z3 = torch.rand_like(tensor)\n",
        "torch.mul(tensor, tensor, out=z3)\n",
        "print(tensor)\n",
        "print(f\"{z1}\\n{z2}\\n{z3}\")"
      ],
      "metadata": {
        "colab": {
          "base_uri": "https://localhost:8080/"
        },
        "id": "yLe3LwvPfdEt",
        "outputId": "5f4cffed-a8d7-4b75-c45e-b92f8ec90064"
      },
      "execution_count": 49,
      "outputs": [
        {
          "output_type": "stream",
          "name": "stdout",
          "text": [
            "tensor([[0.2982, 0.0000],\n",
            "        [0.1576, 0.0000]])\n",
            "tensor([[0.0889, 0.0470],\n",
            "        [0.0470, 0.0249]])\n",
            "tensor([[0.0889, 0.0470],\n",
            "        [0.0470, 0.0249]])\n",
            "tensor([[0.0889, 0.0470],\n",
            "        [0.0470, 0.0249]])\n",
            "tensor([[0.2982, 0.0000],\n",
            "        [0.1576, 0.0000]])\n",
            "tensor([[0.0889, 0.0000],\n",
            "        [0.0249, 0.0000]])\n",
            "tensor([[0.0889, 0.0000],\n",
            "        [0.0249, 0.0000]])\n",
            "tensor([[0.0889, 0.0000],\n",
            "        [0.0249, 0.0000]])\n"
          ]
        }
      ]
    },
    {
      "cell_type": "code",
      "source": [
        "agg = tensor.sum()\n",
        "agg_item = agg.item()\n",
        "print(f\"{tensor}, {agg_item}, {type(agg_item)}\")"
      ],
      "metadata": {
        "colab": {
          "base_uri": "https://localhost:8080/"
        },
        "id": "7OO6P88Go3AB",
        "outputId": "0c4a3288-bdca-4e46-bd0d-5bd4748df009"
      },
      "execution_count": 51,
      "outputs": [
        {
          "output_type": "stream",
          "name": "stdout",
          "text": [
            "tensor([[0.2982, 0.0000],\n",
            "        [0.1576, 0.0000]]), 0.4558658003807068, <class 'float'>\n"
          ]
        }
      ]
    },
    {
      "cell_type": "code",
      "source": [
        "print(tensor)\n",
        "tensor.add_(2)\n",
        "print(tensor)"
      ],
      "metadata": {
        "colab": {
          "base_uri": "https://localhost:8080/"
        },
        "id": "D9d7P0mYxPfh",
        "outputId": "69598439-a4fb-47ec-a781-7508d79f34db"
      },
      "execution_count": 52,
      "outputs": [
        {
          "output_type": "stream",
          "name": "stdout",
          "text": [
            "tensor([[0.2982, 0.0000],\n",
            "        [0.1576, 0.0000]])\n",
            "tensor([[2.2982, 2.0000],\n",
            "        [2.1576, 2.0000]])\n"
          ]
        }
      ]
    },
    {
      "cell_type": "code",
      "source": [
        "tt = torch.ones(3)\n",
        "nn = tt.numpy()\n",
        "print(tt,nn)"
      ],
      "metadata": {
        "colab": {
          "base_uri": "https://localhost:8080/"
        },
        "id": "evdLiyXDxzEh",
        "outputId": "eeb85a1d-cd8e-4858-f466-8616a223bb4b"
      },
      "execution_count": 53,
      "outputs": [
        {
          "output_type": "stream",
          "name": "stdout",
          "text": [
            "tensor([1., 1., 1.]) [1. 1. 1.]\n"
          ]
        }
      ]
    },
    {
      "cell_type": "code",
      "source": [
        "tt.add_(1)\n",
        "print(tt,nn)"
      ],
      "metadata": {
        "colab": {
          "base_uri": "https://localhost:8080/"
        },
        "id": "jLlKXTEwzWdA",
        "outputId": "51c10f1b-fa21-435d-fea7-fd705098cfd5"
      },
      "execution_count": 56,
      "outputs": [
        {
          "output_type": "stream",
          "name": "stdout",
          "text": [
            "tensor([2., 2., 2.]) [2. 2. 2.]\n"
          ]
        }
      ]
    },
    {
      "cell_type": "code",
      "source": [
        "n = np.ones(4)\n",
        "t = torch.from_numpy(n)\n",
        "print(t,n)\n",
        "np.add(n, 1, out=n)\n",
        "print(f\"t: {t}\")\n",
        "print(f\"n: {n}\")"
      ],
      "metadata": {
        "colab": {
          "base_uri": "https://localhost:8080/"
        },
        "id": "QCl4vzdb2JbO",
        "outputId": "3954cf22-ec4b-459e-de63-ca7ce0519a5c"
      },
      "execution_count": 57,
      "outputs": [
        {
          "output_type": "stream",
          "name": "stdout",
          "text": [
            "tensor([1., 1., 1., 1.], dtype=torch.float64) [1. 1. 1. 1.]\n",
            "t: tensor([2., 2., 2., 2.], dtype=torch.float64)\n",
            "n: [2. 2. 2. 2.]\n"
          ]
        }
      ]
    },
    {
      "cell_type": "code",
      "source": [
        ""
      ],
      "metadata": {
        "id": "wyC3e5KE3Ebc"
      },
      "execution_count": null,
      "outputs": []
    }
  ]
}